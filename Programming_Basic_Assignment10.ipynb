{
 "cells": [
  {
   "cell_type": "code",
   "execution_count": 6,
   "id": "95f95214",
   "metadata": {},
   "outputs": [
    {
     "name": "stdout",
     "output_type": "stream",
     "text": [
      "Sum of all elements in given list:  286\n"
     ]
    }
   ],
   "source": [
    "## 1.\tWrite a Python program to find sum of elements in list?\n",
    "\n",
    "total = 0\n",
    " \n",
    "# creating a list\n",
    "list1 = [45, 56, 17, 89, 79]\n",
    " \n",
    "# Iterate each element in list\n",
    "# and add them in variable total\n",
    "for ele in range(0, len(list1)):\n",
    "    total = total + list1[ele]\n",
    " \n",
    "# printing total value\n",
    "print(\"Sum of all elements in given list: \", total)"
   ]
  },
  {
   "cell_type": "code",
   "execution_count": 8,
   "id": "fc9416e7",
   "metadata": {},
   "outputs": [
    {
     "name": "stdout",
     "output_type": "stream",
     "text": [
      "141120\n",
      "29946\n"
     ]
    }
   ],
   "source": [
    "## 2.\tWrite a Python program to multiply all numbers in the list?\n",
    "\n",
    "def multiplyList(myList) :\n",
    "     \n",
    "    # Multiply elements one by one\n",
    "    result = 1\n",
    "    for x in myList:\n",
    "         result = result * x\n",
    "    return result\n",
    "     \n",
    "# Driver code\n",
    "list1 = [45, 56, 56]\n",
    "list2 = [31, 23, 42]\n",
    "print(multiplyList(list1))\n",
    "print(multiplyList(list2))"
   ]
  },
  {
   "cell_type": "code",
   "execution_count": 9,
   "id": "9a20904d",
   "metadata": {},
   "outputs": [
    {
     "name": "stdout",
     "output_type": "stream",
     "text": [
      "Smallest element is: 4\n"
     ]
    }
   ],
   "source": [
    "## 3.\tWrite a Python program to find smallest number in a list?\n",
    "\n",
    "list1 = [10, 20, 4, 45, 99]\n",
    " \n",
    "# sorting the list\n",
    "list1.sort()\n",
    " \n",
    "# printing the first element\n",
    "print(\"Smallest element is:\", *list1[:1])"
   ]
  },
  {
   "cell_type": "code",
   "execution_count": 10,
   "id": "21c9a2da",
   "metadata": {},
   "outputs": [
    {
     "name": "stdout",
     "output_type": "stream",
     "text": [
      "Largest element is: 99\n"
     ]
    }
   ],
   "source": [
    "## 4.\tWrite a Python program to find largest number in a list?\n",
    "\n",
    "list1 = [10, 20, 4, 45, 99]\n",
    "  \n",
    "# sorting the list\n",
    "list1.sort()\n",
    "  \n",
    "# printing the last element\n",
    "print(\"Largest element is:\", list1[-1])"
   ]
  },
  {
   "cell_type": "code",
   "execution_count": 11,
   "id": "0c349ba5",
   "metadata": {},
   "outputs": [
    {
     "name": "stdout",
     "output_type": "stream",
     "text": [
      "Second highest number is :  45\n"
     ]
    }
   ],
   "source": [
    "## 5.\tWrite a Python program to find second largest number in a list?\n",
    "\n",
    "list1 = [10, 20, 4, 45, 99]\n",
    " \n",
    "mx=max(list1[0],list1[1])\n",
    "secondmax=min(list1[0],list1[1])\n",
    "n =len(list1)\n",
    "for i in range(2,n):\n",
    "    if list1[i]>mx:\n",
    "        secondmax=mx\n",
    "        mx=list1[i]\n",
    "    elif list1[i]>secondmax and \\\n",
    "        mx != list1[i]:\n",
    "        secondmax=list1[i]\n",
    " \n",
    "print(\"Second highest number is : \",\\\n",
    "      str(secondmax))"
   ]
  },
  {
   "cell_type": "code",
   "execution_count": 12,
   "id": "6feacdcb",
   "metadata": {},
   "outputs": [
    {
     "name": "stdout",
     "output_type": "stream",
     "text": [
      "[85, 41]\n"
     ]
    }
   ],
   "source": [
    "## 6.\tWrite a Python program to find N largest elements from a list?\n",
    "\n",
    "def Nmaxelements(list1, N):\n",
    "    final_list = []\n",
    "  \n",
    "    for i in range(0, N): \n",
    "        max1 = 0\n",
    "          \n",
    "        for j in range(len(list1)):     \n",
    "            if list1[j] > max1:\n",
    "                max1 = list1[j];\n",
    "                  \n",
    "        list1.remove(max1);\n",
    "        final_list.append(max1)\n",
    "          \n",
    "    print(final_list)\n",
    "  \n",
    "# Driver code\n",
    "list1 = [2, 6, 41, 85, 0, 3, 7, 6, 10]\n",
    "N = 2\n",
    "  \n",
    "# Calling the function\n",
    "Nmaxelements(list1, N)"
   ]
  },
  {
   "cell_type": "code",
   "execution_count": 13,
   "id": "696f1791",
   "metadata": {},
   "outputs": [
    {
     "name": "stdout",
     "output_type": "stream",
     "text": [
      "10 4 66 "
     ]
    }
   ],
   "source": [
    "## 7.\tWrite a Python program to print even numbers in a list?\n",
    "\n",
    "list1 = [10, 21, 4, 45, 66, 93]\n",
    " \n",
    "# iterating each number in list\n",
    "for num in list1:\n",
    " \n",
    "    # checking condition\n",
    "    if num % 2 == 0:\n",
    "        print(num, end=\" \")"
   ]
  },
  {
   "cell_type": "code",
   "execution_count": 14,
   "id": "e022238e",
   "metadata": {},
   "outputs": [
    {
     "name": "stdout",
     "output_type": "stream",
     "text": [
      "21 45 93 "
     ]
    }
   ],
   "source": [
    "## 8.\tWrite a Python program to print odd numbers in a List?\n",
    "\n",
    "list1 = [10, 21, 4, 45, 66, 93]\n",
    "  \n",
    "# iterating each number in list\n",
    "for num in list1:\n",
    "      \n",
    "    # checking condition\n",
    "    if num % 2 != 0:\n",
    "       print(num, end = \" \")"
   ]
  },
  {
   "cell_type": "code",
   "execution_count": 15,
   "id": "125ee5ce",
   "metadata": {},
   "outputs": [
    {
     "name": "stdout",
     "output_type": "stream",
     "text": [
      "21 45 93 "
     ]
    }
   ],
   "source": [
    "## 9.\tWrite a Python program to Remove empty List from List?\n",
    "\n",
    "list1 = [10, 21, 4, 45, 66, 93]\n",
    "  \n",
    "# iterating each number in list\n",
    "for num in list1:\n",
    "      \n",
    "    # checking condition\n",
    "    if num % 2 != 0:\n",
    "       print(num, end = \" \")"
   ]
  },
  {
   "cell_type": "code",
   "execution_count": 16,
   "id": "eafb94e6",
   "metadata": {},
   "outputs": [
    {
     "name": "stdout",
     "output_type": "stream",
     "text": [
      "Original List: [4, 8, 2, 10, 15, 18]\n",
      "After Cloning: [4, 8, 2, 10, 15, 18]\n"
     ]
    }
   ],
   "source": [
    "## 10.\tWrite a Python program to Cloning or Copying a list?\n",
    "\n",
    "def Cloning(li1):\n",
    "    li_copy = li1[:]\n",
    "    return li_copy\n",
    "   \n",
    "# Driver Code\n",
    "li1 = [4, 8, 2, 10, 15, 18]\n",
    "li2 = Cloning(li1)\n",
    "print(\"Original List:\", li1)\n",
    "print(\"After Cloning:\", li2)"
   ]
  },
  {
   "cell_type": "code",
   "execution_count": 17,
   "id": "0c8f48d4",
   "metadata": {},
   "outputs": [
    {
     "name": "stdout",
     "output_type": "stream",
     "text": [
      "8 has occurred 5 times\n"
     ]
    }
   ],
   "source": [
    "## 11.\tWrite a Python program to Count occurrences of an element in a list?\n",
    "\n",
    "def countX(lst, x):\n",
    "    count = 0\n",
    "    for ele in lst:\n",
    "        if (ele == x):\n",
    "            count = count + 1\n",
    "    return count\n",
    " \n",
    "# Driver Code\n",
    "lst = [8, 6, 8, 10, 8, 20, 10, 8, 8]\n",
    "x = 8\n",
    "print('{} has occurred {} times'.format(x, countX(lst, x)))"
   ]
  },
  {
   "cell_type": "code",
   "execution_count": null,
   "id": "6bd35f69",
   "metadata": {},
   "outputs": [],
   "source": []
  }
 ],
 "metadata": {
  "kernelspec": {
   "display_name": "Python 3 (ipykernel)",
   "language": "python",
   "name": "python3"
  },
  "language_info": {
   "codemirror_mode": {
    "name": "ipython",
    "version": 3
   },
   "file_extension": ".py",
   "mimetype": "text/x-python",
   "name": "python",
   "nbconvert_exporter": "python",
   "pygments_lexer": "ipython3",
   "version": "3.9.7"
  }
 },
 "nbformat": 4,
 "nbformat_minor": 5
}
